{
 "cells": [
  {
   "cell_type": "markdown",
   "id": "cd275a0c",
   "metadata": {},
   "source": [
    "## Clasificación por niveles de conectividad\n",
    "\n",
    "Se parte de una variable continua llamada `Horas_Internet`, que representa las horas diarias de uso de internet por persona. A partir de ella, se crea una variable binaria llamada `Alta_conectividad`, que toma el valor `1` si una persona tiene **más de 3.5 horas de uso diario**, y `0` en caso contrario:"
   ]
  },
  {
   "cell_type": "markdown",
   "id": "09783aed",
   "metadata": {},
   "source": [
    "Esta línea genera una variable binaria (`0` o `1`) que puede utilizarse como variable objetivo (target) en un modelo de clasificación."
   ]
  },
  {
   "cell_type": "markdown",
   "id": "16c9902d",
   "metadata": {},
   "source": [
    "En lugar de limitarse a una clasificación binaria, es posible crear una **variable categórica ordinal** con más niveles. Por ejemplo:\n",
    "\n",
    "- `0`: Baja conectividad (hasta 1 hora)\n",
    "- `1`: Media conectividad (más de 1 hasta 3.5 horas)\n",
    "- `2`: Alta conectividad (más de 3.5 horas)\n",
    "\n",
    "Este enfoque permite reflejar con mayor fidelidad los distintos niveles de acceso a internet."
   ]
  },
  {
   "cell_type": "markdown",
   "id": "4f6100a8",
   "metadata": {},
   "source": [
    "Ambos métodos son válidos. El primero entrega una variable numérica ordinal (útil para modelos), y el segundo produce una variable categórica con etiquetas descriptivas (ideal para visualización)."
   ]
  },
  {
   "cell_type": "markdown",
   "id": "3c250413",
   "metadata": {},
   "source": [
    "## Regresión logística antes de limpieza\n",
    "\n",
    "Se entrena un modelo básico de regresión logística para predecir la variable `Alta_conectividad` usando únicamente `Edad` e `Ingreso`, sin limpieza previa."
   ]
  },
  {
   "cell_type": "markdown",
   "id": "14db9553",
   "metadata": {},
   "source": [
    "### Explicación línea por línea:\n",
    "- `dropna()` elimina filas con valores faltantes.\n",
    "- `train_test_split` divide los datos en entrenamiento y prueba (70/30).\n",
    "- `LogisticRegression` se ajusta al conjunto de entrenamiento para predecir `Alta_conectividad`.\n",
    "- `max_iter=200` asegura que el algoritmo tenga tiempo suficiente para converger.\n",
    "- `accuracy_score` mide la proporción de predicciones correctas.\n",
    "- El resultado final muestra la exactitud del modelo antes de cualquier limpieza de datos."
   ]
  },
  {
   "cell_type": "markdown",
   "id": "0bdee37c",
   "metadata": {},
   "source": [
    "##  Limpieza de datos: Imputación, Codificación y Escalado\n",
    "\n",
    "### Imputación con `SimpleImputer`\n",
    "\n",
    "La imputación se usa para reemplazar los valores faltantes (`NaN`). Con `SimpleImputer` de `sklearn.impute`, se pueden aplicar distintas estrategias:\n",
    "\n",
    "| Estrategia            | Qué hace                                            | Cuándo usarla                                      |\n",
    "|------------------------|------------------------------------------------------|----------------------------------------------------|\n",
    "| `'mean'`              | Sustituye con la media                               | Datos numéricos sin outliers                       |\n",
    "| `'median'`            | Sustituye con la mediana                             | Datos numéricos con valores extremos o asimetría   |\n",
    "| `'most_frequent'`     | Sustituye con el valor que más se repite (moda)      | Datos categóricos o discretos                      |\n",
    "| `'constant'`          | Sustituye con un valor fijo definido por el usuario  | Para identificar o normalizar nulos explícitamente |"
   ]
  },
  {
   "cell_type": "markdown",
   "id": "a0c93f0e",
   "metadata": {},
   "source": [
    "La elección de la estrategia depende del tipo de variable y la distribución de los datos. Por ejemplo, `Edad` suele tener valores atípicos, por lo tanto se imputa con la mediana. `Ingreso` se puede imputar con la media si su distribución no tiene sesgo fuerte."
   ]
  },
  {
   "cell_type": "markdown",
   "id": "95d2f85c",
   "metadata": {},
   "source": [
    "También se puede aplicar `most_frequent` o `constant`:"
   ]
  },
  {
   "cell_type": "markdown",
   "id": "4c7a9cec",
   "metadata": {},
   "source": [
    "### Codificación de variables categóricas\n",
    "\n",
    "Los algoritmos de machine learning no trabajan directamente con texto, por lo que las variables categóricas deben transformarse a formato numérico. Se utiliza `pd.get_dummies()`."
   ]
  },
  {
   "cell_type": "markdown",
   "id": "b64de8da",
   "metadata": {},
   "source": [
    "Esto genera columnas binarias (0 o 1) por cada categoría, eliminando una de ellas (`drop_first=True`) para evitar colinealidad. Es esencial que todas las variables sean numéricas antes de pasar al modelo."
   ]
  },
  {
   "cell_type": "markdown",
   "id": "7a4cf37a",
   "metadata": {},
   "source": [
    "### Escalado de variables numéricas con `MinMaxScaler`\n",
    "\n",
    "En modelos basados en distancias o coeficientes (KNN, SVM, regresión logística, redes neuronales), es crucial que las variables estén **en la misma escala**. Si no se escalan, una variable con valores grandes (como `Ingreso`) puede dominar el aprendizaje, incluso si no es más relevante.\n",
    "\n",
    "`MinMaxScaler` transforma los valores de cada variable para que estén en el rango `[0, 1]`.\n",
    "\n",
    "**Fórmula aplicada:**\n",
    "\n",
    "\\[ X_{\\text{escalado}} = \\frac{X - \\min(X)}{\\max(X) - \\min(X)} \\]"
   ]
  },
  {
   "cell_type": "markdown",
   "id": "fdc46be7",
   "metadata": {},
   "source": [
    "Esto garantiza que:\n",
    "\n",
    "- El **mínimo** valor de la columna se convierte en `0`.\n",
    "- El **máximo** valor se convierte en `1`.\n",
    "- Los demás valores se reescalan proporcionalmente dentro de ese intervalo."
   ]
  },
  {
   "cell_type": "markdown",
   "id": "fbecbe2b",
   "metadata": {},
   "source": [
    "#### Ejemplo:\n",
    "\n",
    "Si `Edad` tiene valores entre 18 y 90, y se escala con `MinMaxScaler`, entonces un valor de 54 se transforma en:\n",
    "\\[ \\frac{54 - 18}{90 - 18} = \\frac{36}{72} = 0.5 \\]"
   ]
  },
  {
   "cell_type": "markdown",
   "id": "e964dd9e",
   "metadata": {},
   "source": [
    "#### Alternativas:\n",
    "\n",
    "- `StandardScaler`: transforma los datos con media 0 y desviación estándar 1 (Z-score).\n",
    "- `RobustScaler`: usa mediana e IQR, útil para datos con outliers."
   ]
  },
  {
   "cell_type": "markdown",
   "id": "e099aaeb",
   "metadata": {},
   "source": [
    "##  Modelo después de la limpieza\n",
    "\n",
    "Una vez que se han imputado, codificado y escalado los datos, se puede entrenar el modelo nuevamente y comparar el desempeño."
   ]
  },
  {
   "cell_type": "code",
   "execution_count": 2,
   "id": "92f3ae0a",
   "metadata": {},
   "outputs": [
    {
     "ename": "FileNotFoundError",
     "evalue": "[Errno 2] No such file or directory: '../../datos/dataset_ejemplo_1300.csv'",
     "output_type": "error",
     "traceback": [
      "\u001b[1;31m---------------------------------------------------------------------------\u001b[0m",
      "\u001b[1;31mFileNotFoundError\u001b[0m                         Traceback (most recent call last)",
      "Cell \u001b[1;32mIn[2], line 4\u001b[0m\n\u001b[0;32m      1\u001b[0m \u001b[38;5;28;01mimport\u001b[39;00m\u001b[38;5;250m \u001b[39m\u001b[38;5;21;01mpandas\u001b[39;00m\u001b[38;5;250m \u001b[39m\u001b[38;5;28;01mas\u001b[39;00m\u001b[38;5;250m \u001b[39m\u001b[38;5;21;01mpd\u001b[39;00m\n\u001b[0;32m      3\u001b[0m \u001b[38;5;66;03m# Cargar el dataset\u001b[39;00m\n\u001b[1;32m----> 4\u001b[0m df_raw \u001b[38;5;241m=\u001b[39m \u001b[43mpd\u001b[49m\u001b[38;5;241;43m.\u001b[39;49m\u001b[43mread_csv\u001b[49m\u001b[43m(\u001b[49m\u001b[38;5;124;43m'\u001b[39;49m\u001b[38;5;124;43m../../datos/dataset_ejemplo_1300.csv\u001b[39;49m\u001b[38;5;124;43m'\u001b[39;49m\u001b[43m)\u001b[49m\n\u001b[0;32m      6\u001b[0m df_raw[\u001b[38;5;124m\"\u001b[39m\u001b[38;5;124mAlta_conectividad\u001b[39m\u001b[38;5;124m\"\u001b[39m] \u001b[38;5;241m=\u001b[39m (df_raw[\u001b[38;5;124m\"\u001b[39m\u001b[38;5;124mHoras_Internet\u001b[39m\u001b[38;5;124m\"\u001b[39m] \u001b[38;5;241m>\u001b[39m \u001b[38;5;241m3.5\u001b[39m)\u001b[38;5;241m.\u001b[39mastype(\u001b[38;5;28mint\u001b[39m)\n",
      "File \u001b[1;32m~\\AppData\\Local\\Programs\\Python\\Python313\\Lib\\site-packages\\pandas\\io\\parsers\\readers.py:1026\u001b[0m, in \u001b[0;36mread_csv\u001b[1;34m(filepath_or_buffer, sep, delimiter, header, names, index_col, usecols, dtype, engine, converters, true_values, false_values, skipinitialspace, skiprows, skipfooter, nrows, na_values, keep_default_na, na_filter, verbose, skip_blank_lines, parse_dates, infer_datetime_format, keep_date_col, date_parser, date_format, dayfirst, cache_dates, iterator, chunksize, compression, thousands, decimal, lineterminator, quotechar, quoting, doublequote, escapechar, comment, encoding, encoding_errors, dialect, on_bad_lines, delim_whitespace, low_memory, memory_map, float_precision, storage_options, dtype_backend)\u001b[0m\n\u001b[0;32m   1013\u001b[0m kwds_defaults \u001b[38;5;241m=\u001b[39m _refine_defaults_read(\n\u001b[0;32m   1014\u001b[0m     dialect,\n\u001b[0;32m   1015\u001b[0m     delimiter,\n\u001b[1;32m   (...)\u001b[0m\n\u001b[0;32m   1022\u001b[0m     dtype_backend\u001b[38;5;241m=\u001b[39mdtype_backend,\n\u001b[0;32m   1023\u001b[0m )\n\u001b[0;32m   1024\u001b[0m kwds\u001b[38;5;241m.\u001b[39mupdate(kwds_defaults)\n\u001b[1;32m-> 1026\u001b[0m \u001b[38;5;28;01mreturn\u001b[39;00m \u001b[43m_read\u001b[49m\u001b[43m(\u001b[49m\u001b[43mfilepath_or_buffer\u001b[49m\u001b[43m,\u001b[49m\u001b[43m \u001b[49m\u001b[43mkwds\u001b[49m\u001b[43m)\u001b[49m\n",
      "File \u001b[1;32m~\\AppData\\Local\\Programs\\Python\\Python313\\Lib\\site-packages\\pandas\\io\\parsers\\readers.py:620\u001b[0m, in \u001b[0;36m_read\u001b[1;34m(filepath_or_buffer, kwds)\u001b[0m\n\u001b[0;32m    617\u001b[0m _validate_names(kwds\u001b[38;5;241m.\u001b[39mget(\u001b[38;5;124m\"\u001b[39m\u001b[38;5;124mnames\u001b[39m\u001b[38;5;124m\"\u001b[39m, \u001b[38;5;28;01mNone\u001b[39;00m))\n\u001b[0;32m    619\u001b[0m \u001b[38;5;66;03m# Create the parser.\u001b[39;00m\n\u001b[1;32m--> 620\u001b[0m parser \u001b[38;5;241m=\u001b[39m \u001b[43mTextFileReader\u001b[49m\u001b[43m(\u001b[49m\u001b[43mfilepath_or_buffer\u001b[49m\u001b[43m,\u001b[49m\u001b[43m \u001b[49m\u001b[38;5;241;43m*\u001b[39;49m\u001b[38;5;241;43m*\u001b[39;49m\u001b[43mkwds\u001b[49m\u001b[43m)\u001b[49m\n\u001b[0;32m    622\u001b[0m \u001b[38;5;28;01mif\u001b[39;00m chunksize \u001b[38;5;129;01mor\u001b[39;00m iterator:\n\u001b[0;32m    623\u001b[0m     \u001b[38;5;28;01mreturn\u001b[39;00m parser\n",
      "File \u001b[1;32m~\\AppData\\Local\\Programs\\Python\\Python313\\Lib\\site-packages\\pandas\\io\\parsers\\readers.py:1620\u001b[0m, in \u001b[0;36mTextFileReader.__init__\u001b[1;34m(self, f, engine, **kwds)\u001b[0m\n\u001b[0;32m   1617\u001b[0m     \u001b[38;5;28mself\u001b[39m\u001b[38;5;241m.\u001b[39moptions[\u001b[38;5;124m\"\u001b[39m\u001b[38;5;124mhas_index_names\u001b[39m\u001b[38;5;124m\"\u001b[39m] \u001b[38;5;241m=\u001b[39m kwds[\u001b[38;5;124m\"\u001b[39m\u001b[38;5;124mhas_index_names\u001b[39m\u001b[38;5;124m\"\u001b[39m]\n\u001b[0;32m   1619\u001b[0m \u001b[38;5;28mself\u001b[39m\u001b[38;5;241m.\u001b[39mhandles: IOHandles \u001b[38;5;241m|\u001b[39m \u001b[38;5;28;01mNone\u001b[39;00m \u001b[38;5;241m=\u001b[39m \u001b[38;5;28;01mNone\u001b[39;00m\n\u001b[1;32m-> 1620\u001b[0m \u001b[38;5;28mself\u001b[39m\u001b[38;5;241m.\u001b[39m_engine \u001b[38;5;241m=\u001b[39m \u001b[38;5;28;43mself\u001b[39;49m\u001b[38;5;241;43m.\u001b[39;49m\u001b[43m_make_engine\u001b[49m\u001b[43m(\u001b[49m\u001b[43mf\u001b[49m\u001b[43m,\u001b[49m\u001b[43m \u001b[49m\u001b[38;5;28;43mself\u001b[39;49m\u001b[38;5;241;43m.\u001b[39;49m\u001b[43mengine\u001b[49m\u001b[43m)\u001b[49m\n",
      "File \u001b[1;32m~\\AppData\\Local\\Programs\\Python\\Python313\\Lib\\site-packages\\pandas\\io\\parsers\\readers.py:1880\u001b[0m, in \u001b[0;36mTextFileReader._make_engine\u001b[1;34m(self, f, engine)\u001b[0m\n\u001b[0;32m   1878\u001b[0m     \u001b[38;5;28;01mif\u001b[39;00m \u001b[38;5;124m\"\u001b[39m\u001b[38;5;124mb\u001b[39m\u001b[38;5;124m\"\u001b[39m \u001b[38;5;129;01mnot\u001b[39;00m \u001b[38;5;129;01min\u001b[39;00m mode:\n\u001b[0;32m   1879\u001b[0m         mode \u001b[38;5;241m+\u001b[39m\u001b[38;5;241m=\u001b[39m \u001b[38;5;124m\"\u001b[39m\u001b[38;5;124mb\u001b[39m\u001b[38;5;124m\"\u001b[39m\n\u001b[1;32m-> 1880\u001b[0m \u001b[38;5;28mself\u001b[39m\u001b[38;5;241m.\u001b[39mhandles \u001b[38;5;241m=\u001b[39m \u001b[43mget_handle\u001b[49m\u001b[43m(\u001b[49m\n\u001b[0;32m   1881\u001b[0m \u001b[43m    \u001b[49m\u001b[43mf\u001b[49m\u001b[43m,\u001b[49m\n\u001b[0;32m   1882\u001b[0m \u001b[43m    \u001b[49m\u001b[43mmode\u001b[49m\u001b[43m,\u001b[49m\n\u001b[0;32m   1883\u001b[0m \u001b[43m    \u001b[49m\u001b[43mencoding\u001b[49m\u001b[38;5;241;43m=\u001b[39;49m\u001b[38;5;28;43mself\u001b[39;49m\u001b[38;5;241;43m.\u001b[39;49m\u001b[43moptions\u001b[49m\u001b[38;5;241;43m.\u001b[39;49m\u001b[43mget\u001b[49m\u001b[43m(\u001b[49m\u001b[38;5;124;43m\"\u001b[39;49m\u001b[38;5;124;43mencoding\u001b[39;49m\u001b[38;5;124;43m\"\u001b[39;49m\u001b[43m,\u001b[49m\u001b[43m \u001b[49m\u001b[38;5;28;43;01mNone\u001b[39;49;00m\u001b[43m)\u001b[49m\u001b[43m,\u001b[49m\n\u001b[0;32m   1884\u001b[0m \u001b[43m    \u001b[49m\u001b[43mcompression\u001b[49m\u001b[38;5;241;43m=\u001b[39;49m\u001b[38;5;28;43mself\u001b[39;49m\u001b[38;5;241;43m.\u001b[39;49m\u001b[43moptions\u001b[49m\u001b[38;5;241;43m.\u001b[39;49m\u001b[43mget\u001b[49m\u001b[43m(\u001b[49m\u001b[38;5;124;43m\"\u001b[39;49m\u001b[38;5;124;43mcompression\u001b[39;49m\u001b[38;5;124;43m\"\u001b[39;49m\u001b[43m,\u001b[49m\u001b[43m \u001b[49m\u001b[38;5;28;43;01mNone\u001b[39;49;00m\u001b[43m)\u001b[49m\u001b[43m,\u001b[49m\n\u001b[0;32m   1885\u001b[0m \u001b[43m    \u001b[49m\u001b[43mmemory_map\u001b[49m\u001b[38;5;241;43m=\u001b[39;49m\u001b[38;5;28;43mself\u001b[39;49m\u001b[38;5;241;43m.\u001b[39;49m\u001b[43moptions\u001b[49m\u001b[38;5;241;43m.\u001b[39;49m\u001b[43mget\u001b[49m\u001b[43m(\u001b[49m\u001b[38;5;124;43m\"\u001b[39;49m\u001b[38;5;124;43mmemory_map\u001b[39;49m\u001b[38;5;124;43m\"\u001b[39;49m\u001b[43m,\u001b[49m\u001b[43m \u001b[49m\u001b[38;5;28;43;01mFalse\u001b[39;49;00m\u001b[43m)\u001b[49m\u001b[43m,\u001b[49m\n\u001b[0;32m   1886\u001b[0m \u001b[43m    \u001b[49m\u001b[43mis_text\u001b[49m\u001b[38;5;241;43m=\u001b[39;49m\u001b[43mis_text\u001b[49m\u001b[43m,\u001b[49m\n\u001b[0;32m   1887\u001b[0m \u001b[43m    \u001b[49m\u001b[43merrors\u001b[49m\u001b[38;5;241;43m=\u001b[39;49m\u001b[38;5;28;43mself\u001b[39;49m\u001b[38;5;241;43m.\u001b[39;49m\u001b[43moptions\u001b[49m\u001b[38;5;241;43m.\u001b[39;49m\u001b[43mget\u001b[49m\u001b[43m(\u001b[49m\u001b[38;5;124;43m\"\u001b[39;49m\u001b[38;5;124;43mencoding_errors\u001b[39;49m\u001b[38;5;124;43m\"\u001b[39;49m\u001b[43m,\u001b[49m\u001b[43m \u001b[49m\u001b[38;5;124;43m\"\u001b[39;49m\u001b[38;5;124;43mstrict\u001b[39;49m\u001b[38;5;124;43m\"\u001b[39;49m\u001b[43m)\u001b[49m\u001b[43m,\u001b[49m\n\u001b[0;32m   1888\u001b[0m \u001b[43m    \u001b[49m\u001b[43mstorage_options\u001b[49m\u001b[38;5;241;43m=\u001b[39;49m\u001b[38;5;28;43mself\u001b[39;49m\u001b[38;5;241;43m.\u001b[39;49m\u001b[43moptions\u001b[49m\u001b[38;5;241;43m.\u001b[39;49m\u001b[43mget\u001b[49m\u001b[43m(\u001b[49m\u001b[38;5;124;43m\"\u001b[39;49m\u001b[38;5;124;43mstorage_options\u001b[39;49m\u001b[38;5;124;43m\"\u001b[39;49m\u001b[43m,\u001b[49m\u001b[43m \u001b[49m\u001b[38;5;28;43;01mNone\u001b[39;49;00m\u001b[43m)\u001b[49m\u001b[43m,\u001b[49m\n\u001b[0;32m   1889\u001b[0m \u001b[43m\u001b[49m\u001b[43m)\u001b[49m\n\u001b[0;32m   1890\u001b[0m \u001b[38;5;28;01massert\u001b[39;00m \u001b[38;5;28mself\u001b[39m\u001b[38;5;241m.\u001b[39mhandles \u001b[38;5;129;01mis\u001b[39;00m \u001b[38;5;129;01mnot\u001b[39;00m \u001b[38;5;28;01mNone\u001b[39;00m\n\u001b[0;32m   1891\u001b[0m f \u001b[38;5;241m=\u001b[39m \u001b[38;5;28mself\u001b[39m\u001b[38;5;241m.\u001b[39mhandles\u001b[38;5;241m.\u001b[39mhandle\n",
      "File \u001b[1;32m~\\AppData\\Local\\Programs\\Python\\Python313\\Lib\\site-packages\\pandas\\io\\common.py:873\u001b[0m, in \u001b[0;36mget_handle\u001b[1;34m(path_or_buf, mode, encoding, compression, memory_map, is_text, errors, storage_options)\u001b[0m\n\u001b[0;32m    868\u001b[0m \u001b[38;5;28;01melif\u001b[39;00m \u001b[38;5;28misinstance\u001b[39m(handle, \u001b[38;5;28mstr\u001b[39m):\n\u001b[0;32m    869\u001b[0m     \u001b[38;5;66;03m# Check whether the filename is to be opened in binary mode.\u001b[39;00m\n\u001b[0;32m    870\u001b[0m     \u001b[38;5;66;03m# Binary mode does not support 'encoding' and 'newline'.\u001b[39;00m\n\u001b[0;32m    871\u001b[0m     \u001b[38;5;28;01mif\u001b[39;00m ioargs\u001b[38;5;241m.\u001b[39mencoding \u001b[38;5;129;01mand\u001b[39;00m \u001b[38;5;124m\"\u001b[39m\u001b[38;5;124mb\u001b[39m\u001b[38;5;124m\"\u001b[39m \u001b[38;5;129;01mnot\u001b[39;00m \u001b[38;5;129;01min\u001b[39;00m ioargs\u001b[38;5;241m.\u001b[39mmode:\n\u001b[0;32m    872\u001b[0m         \u001b[38;5;66;03m# Encoding\u001b[39;00m\n\u001b[1;32m--> 873\u001b[0m         handle \u001b[38;5;241m=\u001b[39m \u001b[38;5;28;43mopen\u001b[39;49m\u001b[43m(\u001b[49m\n\u001b[0;32m    874\u001b[0m \u001b[43m            \u001b[49m\u001b[43mhandle\u001b[49m\u001b[43m,\u001b[49m\n\u001b[0;32m    875\u001b[0m \u001b[43m            \u001b[49m\u001b[43mioargs\u001b[49m\u001b[38;5;241;43m.\u001b[39;49m\u001b[43mmode\u001b[49m\u001b[43m,\u001b[49m\n\u001b[0;32m    876\u001b[0m \u001b[43m            \u001b[49m\u001b[43mencoding\u001b[49m\u001b[38;5;241;43m=\u001b[39;49m\u001b[43mioargs\u001b[49m\u001b[38;5;241;43m.\u001b[39;49m\u001b[43mencoding\u001b[49m\u001b[43m,\u001b[49m\n\u001b[0;32m    877\u001b[0m \u001b[43m            \u001b[49m\u001b[43merrors\u001b[49m\u001b[38;5;241;43m=\u001b[39;49m\u001b[43merrors\u001b[49m\u001b[43m,\u001b[49m\n\u001b[0;32m    878\u001b[0m \u001b[43m            \u001b[49m\u001b[43mnewline\u001b[49m\u001b[38;5;241;43m=\u001b[39;49m\u001b[38;5;124;43m\"\u001b[39;49m\u001b[38;5;124;43m\"\u001b[39;49m\u001b[43m,\u001b[49m\n\u001b[0;32m    879\u001b[0m \u001b[43m        \u001b[49m\u001b[43m)\u001b[49m\n\u001b[0;32m    880\u001b[0m     \u001b[38;5;28;01melse\u001b[39;00m:\n\u001b[0;32m    881\u001b[0m         \u001b[38;5;66;03m# Binary mode\u001b[39;00m\n\u001b[0;32m    882\u001b[0m         handle \u001b[38;5;241m=\u001b[39m \u001b[38;5;28mopen\u001b[39m(handle, ioargs\u001b[38;5;241m.\u001b[39mmode)\n",
      "\u001b[1;31mFileNotFoundError\u001b[0m: [Errno 2] No such file or directory: '../../datos/dataset_ejemplo_1300.csv'"
     ]
    }
   ],
   "source": [
    "import pandas as pd\n",
    "\n",
    "# Cargar el dataset\n",
    "df_raw = pd.read_csv('../../datos/dataset_ejemplo_1300.csv')\n",
    "\n",
    "df_raw[\"Alta_conectividad\"] = (df_raw[\"Horas_Internet\"] > 3.5).astype(int)"
   ]
  },
  {
   "cell_type": "code",
   "execution_count": null,
   "id": "b24adae9",
   "metadata": {},
   "outputs": [],
   "source": [
    "def clasificar_conectividad(horas):\n",
    "    if horas <= 1:\n",
    "        return 0\n",
    "    elif horas <= 3.5:\n",
    "        return 1\n",
    "    else:\n",
    "        return 2\n",
    "\n",
    "df_raw[\"Nivel_conectividad\"] = df_raw[\"Horas_Internet\"].apply(clasificar_conectividad)"
   ]
  },
  {
   "cell_type": "code",
   "execution_count": null,
   "id": "448e9736",
   "metadata": {},
   "outputs": [],
   "source": [
    "import pandas as pd\n",
    "\n",
    "df_raw[\"Nivel_conectividad\"] = pd.cut(\n",
    "    df_raw[\"Horas_Internet\"],\n",
    "    bins=[-float(\"inf\"), 1, 3.5, float(\"inf\")],\n",
    "    labels=[\"Baja\", \"Media\", \"Alta\"]\n",
    ")"
   ]
  },
  {
   "cell_type": "code",
   "execution_count": null,
   "id": "d9365808",
   "metadata": {},
   "outputs": [],
   "source": [
    "from sklearn.model_selection import train_test_split\n",
    "from sklearn.linear_model import LogisticRegression\n",
    "from sklearn.metrics import accuracy_score\n",
    "\n",
    "df_before = df_raw[[\"Edad\", \"Ingreso\"]].dropna()\n",
    "Xb = df_before\n",
    "yb = df_raw.loc[df_before.index, \"Alta_conectividad\"]\n",
    "\n",
    "Xb_train, Xb_test, yb_train, yb_test = train_test_split(Xb, yb, test_size=0.3, random_state=42)\n",
    "model_before = LogisticRegression(max_iter=200)\n",
    "model_before.fit(Xb_train, yb_train)\n",
    "yb_pred = model_before.predict(Xb_test)\n",
    "acc_before = accuracy_score(yb_test, yb_pred)\n",
    "print(\"✅ Exactitud antes de la limpieza:\", round(acc_before, 4))"
   ]
  },
  {
   "cell_type": "code",
   "execution_count": null,
   "id": "7df0216e",
   "metadata": {},
   "outputs": [],
   "source": [
    "from sklearn.impute import SimpleImputer\n",
    "\n",
    "df_clean = df_raw.copy()\n",
    "imputer_edad = SimpleImputer(strategy='median')\n",
    "df_clean['Edad'] = imputer_edad.fit_transform(df_clean[['Edad']])\n",
    "\n",
    "imputer_ingreso = SimpleImputer(strategy='mean')\n",
    "df_clean['Ingreso'] = imputer_ingreso.fit_transform(df_clean[['Ingreso']])"
   ]
  },
  {
   "cell_type": "code",
   "execution_count": null,
   "id": "80e07b5c",
   "metadata": {},
   "outputs": [],
   "source": [
    "# Moda o constante (ejemplos)\n",
    "SimpleImputer(strategy='most_frequent')\n",
    "SimpleImputer(strategy='constant', fill_value='Desconocida')"
   ]
  },
  {
   "cell_type": "code",
   "execution_count": null,
   "id": "8f1e62d7",
   "metadata": {},
   "outputs": [],
   "source": [
    "df_clean = pd.get_dummies(df_clean, columns=['Genero', 'Nivel_Educativo', 'Ciudad'], drop_first=True)"
   ]
  },
  {
   "cell_type": "code",
   "execution_count": null,
   "id": "0307e553",
   "metadata": {},
   "outputs": [],
   "source": [
    "from sklearn.preprocessing import MinMaxScaler\n",
    "\n",
    "scaler = MinMaxScaler()\n",
    "df_clean[['Edad', 'Ingreso']] = scaler.fit_transform(df_clean[['Edad', 'Ingreso']])"
   ]
  },
  {
   "cell_type": "code",
   "execution_count": null,
   "id": "324dd7b8",
   "metadata": {},
   "outputs": [],
   "source": [
    "from sklearn.preprocessing import StandardScaler, RobustScaler\n",
    "\n",
    "scaler = StandardScaler()\n",
    "# o\n",
    "scaler = RobustScaler()\n",
    "df_clean[['Edad', 'Ingreso']] = scaler.fit_transform(df_clean[['Edad', 'Ingreso']])"
   ]
  },
  {
   "cell_type": "code",
   "execution_count": null,
   "id": "8bffdca6",
   "metadata": {},
   "outputs": [],
   "source": [
    "Xc = df_clean.drop(columns=['Alta_conectividad'])\n",
    "yc = df_clean['Alta_conectividad']\n",
    "\n",
    "Xc_train, Xc_test, yc_train, yc_test = train_test_split(Xc, yc, test_size=0.3, random_state=42)\n",
    "\n",
    "model_after = LogisticRegression(max_iter=200)\n",
    "model_after.fit(Xc_train, yc_train)\n",
    "yc_pred = model_after.predict(Xc_test)\n",
    "acc_after = accuracy_score(yc_test, yc_pred)\n",
    "print(\"✅ Exactitud después de la limpieza:\", round(acc_after, 4))"
   ]
  }
 ],
 "metadata": {
  "kernelspec": {
   "display_name": "Python 3 (ipykernel)",
   "language": "python",
   "name": "python3"
  },
  "language_info": {
   "codemirror_mode": {
    "name": "ipython",
    "version": 3
   },
   "file_extension": ".py",
   "mimetype": "text/x-python",
   "name": "python",
   "nbconvert_exporter": "python",
   "pygments_lexer": "ipython3",
   "version": "3.13.2"
  }
 },
 "nbformat": 4,
 "nbformat_minor": 5
}
