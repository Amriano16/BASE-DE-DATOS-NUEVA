{
 "cells": [
  {
   "cell_type": "markdown",
   "id": "d98572c6",
   "metadata": {},
   "source": [
    "# 🧠 Clasificación y Limpieza de Datos con Verificación de Ruta"
   ]
  },
  {
   "cell_type": "markdown",
   "id": "de377cc3",
   "metadata": {},
   "source": [
    "## 📂 Verificar y cargar el archivo desde ruta relativa"
   ]
  },
  {
   "cell_type": "code",
   "execution_count": 1,
   "id": "fe93f6ec",
   "metadata": {},
   "outputs": [
    {
     "name": "stdout",
     "output_type": "stream",
     "text": [
      "❌ El archivo no existe en la ruta: ./datos/dataset_ejemplo_1300.csv\n"
     ]
    }
   ],
   "source": [
    "import pandas as pd\n",
    "import os\n",
    "\n",
    "ruta = './datos/dataset_ejemplo_1300.csv'\n",
    "\n",
    "if not os.path.exists(ruta):\n",
    "    print(f\"❌ El archivo no existe en la ruta: {ruta}\")\n",
    "else:\n",
    "    df_raw = pd.read_csv(ruta)\n",
    "    print(\"✅ Archivo cargado correctamente\")\n",
    "    display(df_raw.head())"
   ]
  },
  {
   "cell_type": "markdown",
   "id": "cdd8d344",
   "metadata": {},
   "source": [
    "## 🎯 Crear variable binaria `Alta_conectividad`"
   ]
  },
  {
   "cell_type": "code",
   "execution_count": 2,
   "id": "450d9c5e",
   "metadata": {},
   "outputs": [
    {
     "ename": "NameError",
     "evalue": "name 'df_raw' is not defined",
     "output_type": "error",
     "traceback": [
      "\u001b[1;31m---------------------------------------------------------------------------\u001b[0m",
      "\u001b[1;31mNameError\u001b[0m                                 Traceback (most recent call last)",
      "Cell \u001b[1;32mIn[2], line 1\u001b[0m\n\u001b[1;32m----> 1\u001b[0m df_raw[\u001b[38;5;124m'\u001b[39m\u001b[38;5;124mAlta_conectividad\u001b[39m\u001b[38;5;124m'\u001b[39m] \u001b[38;5;241m=\u001b[39m (\u001b[43mdf_raw\u001b[49m[\u001b[38;5;124m'\u001b[39m\u001b[38;5;124mHoras_Internet\u001b[39m\u001b[38;5;124m'\u001b[39m] \u001b[38;5;241m>\u001b[39m \u001b[38;5;241m3.5\u001b[39m)\u001b[38;5;241m.\u001b[39mastype(\u001b[38;5;28mint\u001b[39m)\n",
      "\u001b[1;31mNameError\u001b[0m: name 'df_raw' is not defined"
     ]
    }
   ],
   "source": [
    "df_raw['Alta_conectividad'] = (df_raw['Horas_Internet'] > 3.5).astype(int)"
   ]
  },
  {
   "cell_type": "markdown",
   "id": "2e43f10b",
   "metadata": {},
   "source": [
    "## 🧩 Crear variable categórica `Nivel_conectividad`"
   ]
  },
  {
   "cell_type": "code",
   "execution_count": null,
   "id": "7184b6dc",
   "metadata": {},
   "outputs": [],
   "source": [
    "def clasificar_conectividad(horas):\n",
    "    if horas <= 1:\n",
    "        return 0\n",
    "    elif horas <= 3.5:\n",
    "        return 1\n",
    "    else:\n",
    "        return 2\n",
    "\n",
    "df_raw['Nivel_conectividad'] = df_raw['Horas_Internet'].apply(clasificar_conectividad)"
   ]
  },
  {
   "cell_type": "markdown",
   "id": "36542cee",
   "metadata": {},
   "source": [
    "## 🧼 Imputación de valores faltantes con `SimpleImputer`\n",
    "\n",
    "Cuando una columna contiene valores faltantes (`NaN`), se pueden aplicar diferentes estrategias para imputar los datos:\n",
    "\n",
    "| Estrategia         | Qué hace                                              | Cuándo usarla                                      | Ejemplo práctico                                                                   |\n",
    "|--------------------|--------------------------------------------------------|----------------------------------------------------|--------------------------------------------------------------------------------------|\n",
    "| `'mean'`           | Sustituye `NaN` con la **media**                      | Datos numéricos sin outliers                       | Edad: `[25, 28, NaN, 22, 30] → NaN → `26.25`                                        |\n",
    "| `'median'`         | Sustituye `NaN` con la **mediana**                   | Datos numéricos con valores extremos              | Ingreso: `[1000, 1200, NaN, 8000, 1100] → NaN → `1150`                             |\n",
    "| `'most_frequent'`  | Sustituye `NaN` con el **valor más frecuente**        | Datos categóricos o discretos                     | Género: `['M', 'F', NaN, 'F'] → NaN → `'F'`                                          |\n",
    "| `'constant'`       | Sustituye `NaN` con un **valor fijo** definido        | Para identificar o normalizar nulos explícitamente| Ciudad: `['Bogotá', NaN, 'Cali'] con fill_value='Desconocida' → NaN → `'Desconocida'` |"
   ]
  },
  {
   "cell_type": "code",
   "execution_count": null,
   "id": "daf1b377",
   "metadata": {},
   "outputs": [],
   "source": [
    "from sklearn.impute import SimpleImputer\n",
    "\n",
    "df_clean = df_raw.copy()\n",
    "\n",
    "# Imputación\n",
    "imputer_edad = SimpleImputer(strategy='median')\n",
    "df_clean['Edad'] = imputer_edad.fit_transform(df_clean[['Edad']])\n",
    "\n",
    "imputer_ingreso = SimpleImputer(strategy='mean')\n",
    "df_clean['Ingreso'] = imputer_ingreso.fit_transform(df_clean[['Ingreso']])"
   ]
  },
  {
   "cell_type": "markdown",
   "id": "552801f4",
   "metadata": {},
   "source": [
    "## 🔣 Codificación de variables categóricas"
   ]
  },
  {
   "cell_type": "code",
   "execution_count": null,
   "id": "4f264534",
   "metadata": {},
   "outputs": [],
   "source": [
    "df_clean = pd.get_dummies(df_clean, drop_first=True)"
   ]
  },
  {
   "cell_type": "markdown",
   "id": "d33ceb09",
   "metadata": {},
   "source": [
    "## 📏 Escalado seguro de variables numéricas"
   ]
  },
  {
   "cell_type": "code",
   "execution_count": null,
   "id": "ac9d6d56",
   "metadata": {},
   "outputs": [],
   "source": [
    "from sklearn.preprocessing import MinMaxScaler\n",
    "\n",
    "cols_numericas = df_clean.select_dtypes(include=['int64', 'float64']).columns\n",
    "scaler = MinMaxScaler()\n",
    "df_clean[cols_numericas] = scaler.fit_transform(df_clean[cols_numericas])"
   ]
  },
  {
   "cell_type": "markdown",
   "id": "d70337f0",
   "metadata": {},
   "source": [
    "## 🤖 Entrenamiento del modelo"
   ]
  },
  {
   "cell_type": "code",
   "execution_count": null,
   "id": "3bc0d7de",
   "metadata": {},
   "outputs": [],
   "source": [
    "from sklearn.model_selection import train_test_split\n",
    "from sklearn.linear_model import LogisticRegression\n",
    "from sklearn.metrics import accuracy_score\n",
    "\n",
    "X = df_clean.drop(columns=['Alta_conectividad'])\n",
    "y = df_clean['Alta_conectividad']\n",
    "\n",
    "X_train, X_test, y_train, y_test = train_test_split(X, y, test_size=0.3, random_state=42)\n",
    "model = LogisticRegression(max_iter=200)\n",
    "model.fit(X_train, y_train)\n",
    "y_pred = model.predict(X_test)\n",
    "accuracy = accuracy_score(y_test, y_pred)\n",
    "print(\"✅ Exactitud del modelo:\", round(accuracy, 4))"
   ]
  }
 ],
 "metadata": {
  "kernelspec": {
   "display_name": "Python 3 (ipykernel)",
   "language": "python",
   "name": "python3"
  },
  "language_info": {
   "codemirror_mode": {
    "name": "ipython",
    "version": 3
   },
   "file_extension": ".py",
   "mimetype": "text/x-python",
   "name": "python",
   "nbconvert_exporter": "python",
   "pygments_lexer": "ipython3",
   "version": "3.13.2"
  }
 },
 "nbformat": 4,
 "nbformat_minor": 5
}
