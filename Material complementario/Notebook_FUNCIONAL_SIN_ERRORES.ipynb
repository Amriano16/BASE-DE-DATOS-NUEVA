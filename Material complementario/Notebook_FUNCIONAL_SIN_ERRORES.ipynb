{
 "cells": [
  {
   "cell_type": "markdown",
   "id": "93b9e7dd",
   "metadata": {},
   "source": [
    "# 🧠 Clasificación y Limpieza de Datos para Modelado Predictivo"
   ]
  },
  {
   "cell_type": "markdown",
   "id": "97584296",
   "metadata": {},
   "source": [
    "## 📂 Carga del archivo CSV"
   ]
  },
  {
   "cell_type": "code",
   "execution_count": null,
   "id": "3b2047bf",
   "metadata": {},
   "outputs": [],
   "source": [
    "import pandas as pd\n",
    "import tkinter as tk\n",
    "from tkinter.filedialog import askopenfilename\n",
    "\n",
    "tk.Tk().withdraw()\n",
    "file_path = askopenfilename(title=\"Selecciona el archivo CSV\")\n",
    "df_raw = pd.read_csv(file_path)\n",
    "df_raw.head()"
   ]
  },
  {
   "cell_type": "markdown",
   "id": "3b9403fa",
   "metadata": {},
   "source": [
    "## 🎯 Crear variable binaria `Alta_conectividad`"
   ]
  },
  {
   "cell_type": "code",
   "execution_count": null,
   "id": "eeb26eef",
   "metadata": {},
   "outputs": [],
   "source": [
    "df_raw[\"Alta_conectividad\"] = (df_raw[\"Horas_Internet\"] > 3.5).astype(int)"
   ]
  },
  {
   "cell_type": "markdown",
   "id": "a65285a5",
   "metadata": {},
   "source": [
    "## 🧩 Crear variable categórica `Nivel_conectividad`"
   ]
  },
  {
   "cell_type": "code",
   "execution_count": null,
   "id": "ebf5018c",
   "metadata": {},
   "outputs": [],
   "source": [
    "def clasificar_conectividad(horas):\n",
    "    if horas <= 1:\n",
    "        return 0\n",
    "    elif horas <= 3.5:\n",
    "        return 1\n",
    "    else:\n",
    "        return 2\n",
    "\n",
    "df_raw[\"Nivel_conectividad\"] = df_raw[\"Horas_Internet\"].apply(clasificar_conectividad)"
   ]
  },
  {
   "cell_type": "markdown",
   "id": "a0f9032d",
   "metadata": {},
   "source": [
    "## 🧼 Imputación de valores faltantes"
   ]
  },
  {
   "cell_type": "code",
   "execution_count": null,
   "id": "6aa94aea",
   "metadata": {},
   "outputs": [],
   "source": [
    "from sklearn.impute import SimpleImputer\n",
    "df_clean = df_raw.copy()\n",
    "\n",
    "# Imputar Edad con mediana\n",
    "imputer_edad = SimpleImputer(strategy='median')\n",
    "df_clean['Edad'] = imputer_edad.fit_transform(df_clean[['Edad']])\n",
    "\n",
    "# Imputar Ingreso con media\n",
    "imputer_ingreso = SimpleImputer(strategy='mean')\n",
    "df_clean['Ingreso'] = imputer_ingreso.fit_transform(df_clean[['Ingreso']])"
   ]
  },
  {
   "cell_type": "markdown",
   "id": "fa2077d0",
   "metadata": {},
   "source": [
    "## 🔣 Codificación de variables categóricas"
   ]
  },
  {
   "cell_type": "code",
   "execution_count": null,
   "id": "2cd2a4a4",
   "metadata": {},
   "outputs": [],
   "source": [
    "df_clean = pd.get_dummies(df_clean, drop_first=True)"
   ]
  },
  {
   "cell_type": "markdown",
   "id": "4504cbaf",
   "metadata": {},
   "source": [
    "## 📏 Escalado solo de columnas numéricas válidas"
   ]
  },
  {
   "cell_type": "code",
   "execution_count": null,
   "id": "c6b2c7a7",
   "metadata": {},
   "outputs": [],
   "source": [
    "from sklearn.preprocessing import MinMaxScaler\n",
    "\n",
    "# Seleccionar solo columnas numéricas válidas\n",
    "cols_numericas = df_clean.select_dtypes(include=['int64', 'float64']).columns\n",
    "\n",
    "scaler = MinMaxScaler()\n",
    "df_clean[cols_numericas] = scaler.fit_transform(df_clean[cols_numericas])"
   ]
  },
  {
   "cell_type": "markdown",
   "id": "32d04117",
   "metadata": {},
   "source": [
    "## 🤖 Entrenamiento de modelo después de limpieza"
   ]
  },
  {
   "cell_type": "code",
   "execution_count": null,
   "id": "10db751e",
   "metadata": {},
   "outputs": [],
   "source": [
    "from sklearn.model_selection import train_test_split\n",
    "from sklearn.linear_model import LogisticRegression\n",
    "from sklearn.metrics import accuracy_score\n",
    "\n",
    "X = df_clean.drop(columns=[\"Alta_conectividad\"])\n",
    "y = df_clean[\"Alta_conectividad\"]\n",
    "\n",
    "X_train, X_test, y_train, y_test = train_test_split(X, y, test_size=0.3, random_state=42)\n",
    "\n",
    "model = LogisticRegression(max_iter=200)\n",
    "model.fit(X_train, y_train)\n",
    "y_pred = model.predict(X_test)\n",
    "accuracy = accuracy_score(y_test, y_pred)\n",
    "print(\"✅ Exactitud del modelo:\", round(accuracy, 4))"
   ]
  }
 ],
 "metadata": {
  "kernelspec": {
   "display_name": "Python 3 (ipykernel)",
   "language": "python",
   "name": "python3"
  },
  "language_info": {
   "codemirror_mode": {
    "name": "ipython",
    "version": 3
   },
   "file_extension": ".py",
   "mimetype": "text/x-python",
   "name": "python",
   "nbconvert_exporter": "python",
   "pygments_lexer": "ipython3",
   "version": "3.13.2"
  }
 },
 "nbformat": 4,
 "nbformat_minor": 5
}
