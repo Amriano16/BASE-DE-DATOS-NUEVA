{
 "cells": [
  {
   "cell_type": "markdown",
   "id": "0a45ec32",
   "metadata": {},
   "source": [
    "# 🧠 Clasificación y Limpieza de Datos sin errores de ejecución"
   ]
  },
  {
   "cell_type": "markdown",
   "id": "904e923a",
   "metadata": {},
   "source": [
    "## 📂 Cargar base de datos"
   ]
  },
  {
   "cell_type": "code",
   "execution_count": 1,
   "id": "bd4b6c28",
   "metadata": {},
   "outputs": [
    {
     "data": {
      "text/html": [
       "<div>\n",
       "<style scoped>\n",
       "    .dataframe tbody tr th:only-of-type {\n",
       "        vertical-align: middle;\n",
       "    }\n",
       "\n",
       "    .dataframe tbody tr th {\n",
       "        vertical-align: top;\n",
       "    }\n",
       "\n",
       "    .dataframe thead th {\n",
       "        text-align: right;\n",
       "    }\n",
       "</style>\n",
       "<table border=\"1\" class=\"dataframe\">\n",
       "  <thead>\n",
       "    <tr style=\"text-align: right;\">\n",
       "      <th></th>\n",
       "      <th>ID</th>\n",
       "      <th>Edad</th>\n",
       "      <th>Genero</th>\n",
       "      <th>Ingreso</th>\n",
       "      <th>Nivel_Educativo</th>\n",
       "      <th>Horas_Internet</th>\n",
       "      <th>Ciudad</th>\n",
       "      <th>CodigoID</th>\n",
       "    </tr>\n",
       "  </thead>\n",
       "  <tbody>\n",
       "    <tr>\n",
       "      <th>0</th>\n",
       "      <td>1</td>\n",
       "      <td>22.0</td>\n",
       "      <td>Femenino</td>\n",
       "      <td>4842.42</td>\n",
       "      <td>Secundaria</td>\n",
       "      <td>1.6</td>\n",
       "      <td>Cali</td>\n",
       "      <td>1-Cal</td>\n",
       "    </tr>\n",
       "    <tr>\n",
       "      <th>1</th>\n",
       "      <td>2</td>\n",
       "      <td>47.0</td>\n",
       "      <td>Masculino</td>\n",
       "      <td>5742.02</td>\n",
       "      <td>Posgrado</td>\n",
       "      <td>5.6</td>\n",
       "      <td>Medellín</td>\n",
       "      <td>2-Med</td>\n",
       "    </tr>\n",
       "    <tr>\n",
       "      <th>2</th>\n",
       "      <td>3</td>\n",
       "      <td>38.0</td>\n",
       "      <td>Otro</td>\n",
       "      <td>4335.12</td>\n",
       "      <td>Técnico</td>\n",
       "      <td>2.3</td>\n",
       "      <td>Villavicencio</td>\n",
       "      <td>3-Vil</td>\n",
       "    </tr>\n",
       "    <tr>\n",
       "      <th>3</th>\n",
       "      <td>4</td>\n",
       "      <td>17.0</td>\n",
       "      <td>Otro</td>\n",
       "      <td>4515.57</td>\n",
       "      <td>Tecnólogo</td>\n",
       "      <td>3.2</td>\n",
       "      <td>Bogotá</td>\n",
       "      <td>4-Bog</td>\n",
       "    </tr>\n",
       "    <tr>\n",
       "      <th>4</th>\n",
       "      <td>5</td>\n",
       "      <td>28.0</td>\n",
       "      <td>Otro</td>\n",
       "      <td>3846.49</td>\n",
       "      <td>Primaria</td>\n",
       "      <td>1.3</td>\n",
       "      <td>Pasto</td>\n",
       "      <td>5-Pas</td>\n",
       "    </tr>\n",
       "  </tbody>\n",
       "</table>\n",
       "</div>"
      ],
      "text/plain": [
       "   ID  Edad     Genero  Ingreso Nivel_Educativo  Horas_Internet  \\\n",
       "0   1  22.0   Femenino  4842.42      Secundaria             1.6   \n",
       "1   2  47.0  Masculino  5742.02        Posgrado             5.6   \n",
       "2   3  38.0       Otro  4335.12         Técnico             2.3   \n",
       "3   4  17.0       Otro  4515.57       Tecnólogo             3.2   \n",
       "4   5  28.0       Otro  3846.49        Primaria             1.3   \n",
       "\n",
       "          Ciudad CodigoID  \n",
       "0           Cali    1-Cal  \n",
       "1       Medellín    2-Med  \n",
       "2  Villavicencio    3-Vil  \n",
       "3         Bogotá    4-Bog  \n",
       "4          Pasto    5-Pas  "
      ]
     },
     "execution_count": 1,
     "metadata": {},
     "output_type": "execute_result"
    }
   ],
   "source": [
    "import pandas as pd\n",
    "import os\n",
    "\n",
    "ruta = './datos/dataset_ejemplo_1300.csv'\n",
    "if not os.path.exists(ruta):\n",
    "    raise FileNotFoundError(f'❌ El archivo no se encuentra en: {ruta}')\n",
    "df_raw = pd.read_csv(ruta)\n",
    "df_raw.head()"
   ]
  },
  {
   "cell_type": "markdown",
   "id": "89816c67",
   "metadata": {},
   "source": [
    "## 🎯 Crear variables `Alta_conectividad` y `Nivel_conectividad`"
   ]
  },
  {
   "cell_type": "code",
   "execution_count": 2,
   "id": "2ece4e65",
   "metadata": {},
   "outputs": [],
   "source": [
    "df_raw['Alta_conectividad'] = (df_raw['Horas_Internet'] > 3.5).astype(int)\n",
    "\n",
    "def clasificar_conectividad(horas):\n",
    "    if horas <= 1:\n",
    "        return 0\n",
    "    elif horas <= 3.5:\n",
    "        return 1\n",
    "    else:\n",
    "        return 2\n",
    "\n",
    "df_raw['Nivel_conectividad'] = df_raw['Horas_Internet'].apply(clasificar_conectividad)"
   ]
  },
  {
   "cell_type": "markdown",
   "id": "bfd8fdbc",
   "metadata": {},
   "source": [
    "## 🧼 Imputación de variables con `SimpleImputer`"
   ]
  },
  {
   "cell_type": "code",
   "execution_count": 3,
   "id": "42cf69ba",
   "metadata": {},
   "outputs": [],
   "source": [
    "from sklearn.impute import SimpleImputer\n",
    "\n",
    "df_clean = df_raw.copy()\n",
    "\n",
    "# Imputar Edad con mediana\n",
    "imputer_edad = SimpleImputer(strategy='median')\n",
    "df_clean['Edad'] = imputer_edad.fit_transform(df_clean[['Edad']])\n",
    "\n",
    "# Imputar Ingreso con media\n",
    "imputer_ingreso = SimpleImputer(strategy='mean')\n",
    "df_clean['Ingreso'] = imputer_ingreso.fit_transform(df_clean[['Ingreso']])"
   ]
  },
  {
   "cell_type": "markdown",
   "id": "162f914f",
   "metadata": {},
   "source": [
    "## 🔣 Codificación de variables categóricas"
   ]
  },
  {
   "cell_type": "code",
   "execution_count": 4,
   "id": "83744099",
   "metadata": {},
   "outputs": [],
   "source": [
    "df_clean = pd.get_dummies(df_clean, drop_first=True)"
   ]
  },
  {
   "cell_type": "markdown",
   "id": "de87ce24",
   "metadata": {},
   "source": [
    "## 📏 Escalado seguro de columnas numéricas"
   ]
  },
  {
   "cell_type": "code",
   "execution_count": 5,
   "id": "63fa088b",
   "metadata": {},
   "outputs": [],
   "source": [
    "from sklearn.preprocessing import MinMaxScaler\n",
    "\n",
    "cols_numericas = df_clean.select_dtypes(include=['int64', 'float64']).columns\n",
    "scaler = MinMaxScaler()\n",
    "df_clean[cols_numericas] = scaler.fit_transform(df_clean[cols_numericas])"
   ]
  },
  {
   "cell_type": "markdown",
   "id": "a437b6e9",
   "metadata": {},
   "source": [
    "## ✅ Filtrar solo columnas numéricas antes del modelo"
   ]
  },
  {
   "cell_type": "code",
   "execution_count": 6,
   "id": "d8dc14f5",
   "metadata": {},
   "outputs": [],
   "source": [
    "Xc = df_clean.drop(columns=['Alta_conectividad'])\n",
    "Xc = Xc.select_dtypes(include=['int64', 'float64'])\n",
    "yc = df_clean['Alta_conectividad']"
   ]
  },
  {
   "cell_type": "markdown",
   "id": "f4cdb651",
   "metadata": {},
   "source": [
    "## 🤖 Entrenamiento del modelo final sin errores"
   ]
  },
  {
   "cell_type": "code",
   "execution_count": 7,
   "id": "c4cbb742",
   "metadata": {},
   "outputs": [
    {
     "name": "stdout",
     "output_type": "stream",
     "text": [
      "✅ Exactitud del modelo: 1.0\n"
     ]
    }
   ],
   "source": [
    "from sklearn.model_selection import train_test_split\n",
    "from sklearn.linear_model import LogisticRegression\n",
    "from sklearn.metrics import accuracy_score\n",
    "\n",
    "Xc_train, Xc_test, yc_train, yc_test = train_test_split(Xc, yc, test_size=0.3, random_state=42)\n",
    "model_after = LogisticRegression(max_iter=200)\n",
    "model_after.fit(Xc_train, yc_train)\n",
    "yc_pred = model_after.predict(Xc_test)\n",
    "acc_after = accuracy_score(yc_test, yc_pred)\n",
    "print('✅ Exactitud del modelo:', round(acc_after, 4))"
   ]
  }
 ],
 "metadata": {
  "kernelspec": {
   "display_name": "Python 3 (ipykernel)",
   "language": "python",
   "name": "python3"
  },
  "language_info": {
   "codemirror_mode": {
    "name": "ipython",
    "version": 3
   },
   "file_extension": ".py",
   "mimetype": "text/x-python",
   "name": "python",
   "nbconvert_exporter": "python",
   "pygments_lexer": "ipython3",
   "version": "3.13.2"
  }
 },
 "nbformat": 4,
 "nbformat_minor": 5
}
